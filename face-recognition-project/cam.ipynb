{
 "cells": [
  {
   "cell_type": "code",
   "execution_count": null,
   "id": "073af099-19b4-4dc9-8ec1-7e956b9f307b",
   "metadata": {},
   "outputs": [],
   "source": [
    "!pip install -r requirements.txt\n"
   ]
  },
  {
   "cell_type": "code",
   "execution_count": null,
   "id": "47382113-e9bb-44b1-aff8-b7c1ea3229ef",
   "metadata": {},
   "outputs": [],
   "source": [
    "import cv2\n",
    "import face_recognition\n",
    "import sqlite3\n",
    "from datetime import datetime\n",
    "\n",
    "# الاتصال بقاعدة البيانات أو إنشاؤها إذا لم تكن موجودة\n",
    "conn = sqlite3.connect('people.db')\n",
    "cursor = conn.cursor()\n",
    "\n",
    "# إنشاء جدول إذا لم يكن موجودًا\n",
    "cursor.execute('''\n",
    "CREATE TABLE IF NOT EXISTS detected_people (\n",
    "    person_id INTEGER PRIMARY KEY AUTOINCREMENT,\n",
    "    location TEXT,\n",
    "    time_stamp TEXT\n",
    ")''')\n",
    "\n",
    "# تشغيل الكاميرا\n",
    "cap = cv2.VideoCapture(0)\n",
    "\n",
    "while True:\n",
    "    ret, frame = cap.read()\n",
    "    rgb_frame = frame[:, :, ::-1]  # تحويل BGR إلى RGB\n",
    "    \n",
    "    # التعرف على الوجوه\n",
    "    face_locations = face_recognition.face_locations(rgb_frame)\n",
    "\n",
    "    for (top, right, bottom, left) in face_locations:\n",
    "        cv2.rectangle(frame, (left, top), (right, bottom), (255, 0, 0), 2)\n",
    "\n",
    "        # إدخال البيانات في قاعدة البيانات\n",
    "        location = f\"Top: {top}, Left: {left}, Bottom: {bottom}, Right: {right}\"\n",
    "        time_stamp = datetime.now().strftime('%Y-%m-%d %H:%M:%S')\n",
    "        cursor.execute('''INSERT INTO detected_people (location, time_stamp)\n",
    "                          VALUES (?, ?)''', (location, time_stamp))\n",
    "        conn.commit()\n",
    "\n",
    "    cv2.imshow('Camera', frame)\n",
    "\n",
    "    if cv2.waitKey(1) & 0xFF == ord('q'):\n",
    "        break\n",
    "\n",
    "# إغلاق الكاميرا وقاعدة البيانات\n",
    "cap.release()\n",
    "conn.close()\n",
    "cv2.destroyAllWindows()\n"
   ]
  },
  {
   "cell_type": "code",
   "execution_count": null,
   "id": "20b108e7-5441-4c6d-b11b-51962f5175ae",
   "metadata": {},
   "outputs": [],
   "source": [
    "import pandas as pd\n",
    "import sqlite3\n",
    "\n",
    "# الاتصال بقاعدة البيانات\n",
    "conn = sqlite3.connect('people.db')\n",
    "\n",
    "# قراءة البيانات باستخدام Pandas\n",
    "df = pd.read_sql_query(\"SELECT * FROM detected_people\", conn)\n",
    "\n",
    "# عرض البيانات\n",
    "print(df)\n",
    "\n",
    "# إغلاق الاتصال بقاعدة البيانات\n",
    "conn.close()\n",
    "\n",
    "# تحليل بسيط: عدد الأشخاص الذين تم اكتشافهم\n",
    "print(\"عدد الأشخاص المكتشفين:\", len(df))\n",
    "\n",
    "# تحليل: عرض الأشخاص المكتشفين في فترة زمنية معينة\n",
    "start_time = '2023-09-25 12:00:00'\n",
    "end_time = '2023-09-25 12:30:00'\n",
    "mask = (df['time_stamp'] >= start_time) & (df['time_stamp'] <= end_time)\n",
    "print(df[mask])\n"
   ]
  },
  {
   "cell_type": "code",
   "execution_count": null,
   "id": "9438c765-3f77-4f41-80e2-0b55147fa06b",
   "metadata": {},
   "outputs": [],
   "source": []
  },
  {
   "cell_type": "code",
   "execution_count": null,
   "id": "2c49f35c-d958-405b-bd12-80deedfd6a54",
   "metadata": {},
   "outputs": [],
   "source": []
  }
 ],
 "metadata": {
  "kernelspec": {
   "display_name": "Python 3 (ipykernel)",
   "language": "python",
   "name": "python3"
  },
  "language_info": {
   "codemirror_mode": {
    "name": "ipython",
    "version": 3
   },
   "file_extension": ".py",
   "mimetype": "text/x-python",
   "name": "python",
   "nbconvert_exporter": "python",
   "pygments_lexer": "ipython3",
   "version": "3.12.7"
  }
 },
 "nbformat": 4,
 "nbformat_minor": 5
}
